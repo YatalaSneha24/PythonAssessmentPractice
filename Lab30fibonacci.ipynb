{
  "nbformat": 4,
  "nbformat_minor": 0,
  "metadata": {
    "colab": {
      "provenance": [],
      "authorship_tag": "ABX9TyPkbfKuZdXXmf6yWsdJJECp",
      "include_colab_link": true
    },
    "kernelspec": {
      "name": "python3",
      "display_name": "Python 3"
    },
    "language_info": {
      "name": "python"
    }
  },
  "cells": [
    {
      "cell_type": "markdown",
      "metadata": {
        "id": "view-in-github",
        "colab_type": "text"
      },
      "source": [
        "<a href=\"https://colab.research.google.com/github/YatalaSneha24/PythonAssessmentPractice/blob/main/Lab30fibonacci.ipynb\" target=\"_parent\"><img src=\"https://colab.research.google.com/assets/colab-badge.svg\" alt=\"Open In Colab\"/></a>"
      ]
    },
    {
      "cell_type": "code",
      "execution_count": 6,
      "metadata": {
        "colab": {
          "base_uri": "https://localhost:8080/"
        },
        "id": "L7XvT9TzVJTI",
        "outputId": "464510a2-1994-4413-e370-4fb7958363e6"
      },
      "outputs": [
        {
          "output_type": "stream",
          "name": "stdout",
          "text": [
            "Enter the starting number:1\n",
            "Enter the ending number:150\n",
            "Fibonacci series between1 and 150 is:\n",
            "[1, 1, 2, 3, 5, 8, 13, 21, 34, 55, 89, 144]\n"
          ]
        }
      ],
      "source": [
        "#Write a Python program to get the Fibonacci series between given two numbers read by user.\n",
        "\n",
        "starting_number = int(input(\"Enter the starting number:\"))\n",
        "ending_number = int(input(\"Enter the ending number:\"))\n",
        "\n",
        "#Initialize the first two fibonacci numbers\n",
        "a,b = 0,1\n",
        "\n",
        "#Initialize an empty list to store fibanocii numbers within the range\n",
        "fibonacci_series = []\n",
        "\n",
        "#Generate  Fibonacci numbers and store those within the range\n",
        "while a <= ending_number:\n",
        "  if a >= starting_number:\n",
        "       fibonacci_series.append(a)\n",
        "  a, b = b, a + b\n",
        "\n",
        "  #Display the result\n",
        "if fibonacci_series:\n",
        "   print(f\"Fibonacci series between {starting_number} and {ending_number} is:\")\n",
        "   print(fibonacci_series)\n",
        "else:\n",
        "    print(f\"No fibanocci numbers found between {starting_number} and {ending_number}\")"
      ]
    }
  ]
}