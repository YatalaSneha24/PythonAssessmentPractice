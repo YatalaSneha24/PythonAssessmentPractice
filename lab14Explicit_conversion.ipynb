{
  "nbformat": 4,
  "nbformat_minor": 0,
  "metadata": {
    "colab": {
      "provenance": [],
      "authorship_tag": "ABX9TyNQXbn+NJVHvt/VF7791xYj",
      "include_colab_link": true
    },
    "kernelspec": {
      "name": "python3",
      "display_name": "Python 3"
    },
    "language_info": {
      "name": "python"
    }
  },
  "cells": [
    {
      "cell_type": "markdown",
      "metadata": {
        "id": "view-in-github",
        "colab_type": "text"
      },
      "source": [
        "<a href=\"https://colab.research.google.com/github/YatalaSneha24/PythonAssessmentPractice/blob/main/lab14Explicit_conversion.ipynb\" target=\"_parent\"><img src=\"https://colab.research.google.com/assets/colab-badge.svg\" alt=\"Open In Colab\"/></a>"
      ]
    },
    {
      "cell_type": "code",
      "execution_count": null,
      "metadata": {
        "colab": {
          "base_uri": "https://localhost:8080/"
        },
        "id": "N2gqWY-FeN90",
        "outputId": "26ac8b05-1941-4954-e28a-cd8130cbfe5a"
      },
      "outputs": [
        {
          "output_type": "stream",
          "name": "stdout",
          "text": [
            "<class 'int'>\n",
            "<class 'str'>\n",
            "The number is32\n",
            "<class 'str'>\n"
          ]
        }
      ],
      "source": [
        "'''Implementation of Addition of\n",
        "string and integer Using Explicit Conversion '''\n",
        "\n",
        "#Defining a string and an integer\n",
        "string_name = \"The number is\"\n",
        "integer_value = 32\n",
        "print(type(integer_value))\n",
        "\n",
        "#Converting the integer into a string using explicit conversion\n",
        "int_as_str = str(integer_value)\n",
        "print(type(int_as_str))\n",
        "\n",
        "#Concatenating the string and the converted integer\n",
        "result = string_name + int_as_str\n",
        "print(result)\n",
        "print(type(result))\n",
        "\n"
      ]
    }
  ]
}