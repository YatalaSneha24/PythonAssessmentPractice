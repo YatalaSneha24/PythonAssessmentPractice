{
  "nbformat": 4,
  "nbformat_minor": 0,
  "metadata": {
    "colab": {
      "provenance": [],
      "authorship_tag": "ABX9TyP8644QA6wE/GgiZyMY1lsa",
      "include_colab_link": true
    },
    "kernelspec": {
      "name": "python3",
      "display_name": "Python 3"
    },
    "language_info": {
      "name": "python"
    }
  },
  "cells": [
    {
      "cell_type": "markdown",
      "metadata": {
        "id": "view-in-github",
        "colab_type": "text"
      },
      "source": [
        "<a href=\"https://colab.research.google.com/github/YatalaSneha24/PythonAssessmentPractice/blob/main/lab26.ipynb\" target=\"_parent\"><img src=\"https://colab.research.google.com/assets/colab-badge.svg\" alt=\"Open In Colab\"/></a>"
      ]
    },
    {
      "cell_type": "code",
      "execution_count": 7,
      "metadata": {
        "colab": {
          "base_uri": "https://localhost:8080/"
        },
        "id": "U7xzBzh9p-YD",
        "outputId": "0c1964bb-aa8e-4c33-e44e-1844b2f4265a"
      },
      "outputs": [
        {
          "output_type": "stream",
          "name": "stdout",
          "text": [
            "Enter the month name:december\n",
            "The number of days in December is: 31\n"
          ]
        }
      ],
      "source": [
        "#Write a Python program to convert a month name to a number of days.\n",
        "month_name = input(\"Enter the month name:\").lower()  #Determine the number of the days based on the month\n",
        "if month_name == \"january\" or month_name == \"march\" or month_name == \"may\" or \\\n",
        "   month_name == \"july\" or month_name == \"august\" or month_name == \"october\" or month_name == \"december\":\n",
        "   days = 31\n",
        "elif month_name == \"april\" or month_name == \"september\" or month_name == \"june\" or month_name == \"november\":\n",
        "     days = 30\n",
        "elif month_name == \"february\":\n",
        "     days = 28 #Assuming it's not a leap year\n",
        "else:\n",
        "  days = \"Invalid month name\"\n",
        "\n",
        "print(f\"The number of days in {month_name.capitalize()} is: {days}\")"
      ]
    },
    {
      "cell_type": "code",
      "source": [
        "#Write a Python program to convert a month name to a number of days.\n",
        "month_name = input(\"Enter the month name:\").lower()  #Determine the number of the days based on the month\n",
        "if month_name == \"january\" or month_name == \"march\" or month_name == \"may\" or \\\n",
        "   month_name == \"july\" or month_name == \"august\" or month_name == \"october\" or month_name == \"december\":\n",
        "   days = 31\n",
        "elif month_name == \"april\" or month_name == \"september\" or month_name == \"june\" or month_name == \"november\":\n",
        "     days = 30\n",
        "elif month_name == \"february\":\n",
        "     days = 28 #Assuming it's not a leap year\n",
        "else:\n",
        "  days = \"Invalid month name\"\n",
        "\n",
        "print(f\"The number of days in {month_name.capitalize()} is: {days}\")"
      ],
      "metadata": {
        "colab": {
          "base_uri": "https://localhost:8080/"
        },
        "id": "21XCEj5iz7AL",
        "outputId": "7fe32ee8-f259-4b74-ce28-d8b6df49ff3e"
      },
      "execution_count": 9,
      "outputs": [
        {
          "output_type": "stream",
          "name": "stdout",
          "text": [
            "Enter the month name:sneha\n",
            "The number of days in Sneha is: Invalid month name\n"
          ]
        }
      ]
    },
    {
      "cell_type": "code",
      "source": [
        "#Write a Python program to convert a month name to a number of days.\n",
        "month_name = input(\"Enter the month name:\").lower()  #Determine the number of the days based on the month\n",
        "if month_name == \"january\" or month_name == \"march\" or month_name == \"may\" or \\\n",
        "   month_name == \"july\" or month_name == \"august\" or month_name == \"october\" or month_name == \"december\":\n",
        "   days = 31\n",
        "elif month_name == \"april\" or month_name == \"september\" or month_name == \"june\" or month_name == \"november\":\n",
        "     days = 30\n",
        "elif month_name == \"february\":\n",
        "     days = 28 #Assuming it's not a leap year\n",
        "else:\n",
        "  days = \"Invalid month name\"\n",
        "\n",
        "print(f\"The number of days in {month_name.capitalize()} is: {days}\")"
      ],
      "metadata": {
        "colab": {
          "base_uri": "https://localhost:8080/"
        },
        "id": "SpEQ31zKz1KL",
        "outputId": "84efdc9f-edb3-4381-f42e-4c96c0c17d71"
      },
      "execution_count": 8,
      "outputs": [
        {
          "output_type": "stream",
          "name": "stdout",
          "text": [
            "Enter the month name:june\n",
            "The number of days in June is: 30\n"
          ]
        }
      ]
    }
  ]
}