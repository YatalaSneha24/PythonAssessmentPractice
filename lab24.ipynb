{
  "nbformat": 4,
  "nbformat_minor": 0,
  "metadata": {
    "colab": {
      "provenance": [],
      "authorship_tag": "ABX9TyMbbDWjwKKcap5CJRgzTgtg",
      "include_colab_link": true
    },
    "kernelspec": {
      "name": "python3",
      "display_name": "Python 3"
    },
    "language_info": {
      "name": "python"
    }
  },
  "cells": [
    {
      "cell_type": "markdown",
      "metadata": {
        "id": "view-in-github",
        "colab_type": "text"
      },
      "source": [
        "<a href=\"https://colab.research.google.com/github/YatalaSneha24/PythonAssessmentPractice/blob/main/lab24.ipynb\" target=\"_parent\"><img src=\"https://colab.research.google.com/assets/colab-badge.svg\" alt=\"Open In Colab\"/></a>"
      ]
    },
    {
      "cell_type": "code",
      "execution_count": 1,
      "metadata": {
        "colab": {
          "base_uri": "https://localhost:8080/"
        },
        "id": "yLkXPeniR29F",
        "outputId": "542623e3-29a1-40e5-8ee1-a1c092dee28c"
      },
      "outputs": [
        {
          "output_type": "stream",
          "name": "stdout",
          "text": [
            "At least one condition is false\n"
          ]
        }
      ],
      "source": [
        "#Create two boolean objects and use the and operator in an if statement\n",
        "\n",
        "bool2 = True\n",
        "bool3 = False\n",
        "if bool2 and bool3:\n",
        "  print(\"Both the conditions are True\")\n",
        "else:\n",
        "  print(\"At least one condition is false\")"
      ]
    },
    {
      "cell_type": "code",
      "source": [],
      "metadata": {
        "id": "4UKqHtcdSbyx"
      },
      "execution_count": null,
      "outputs": []
    }
  ]
}