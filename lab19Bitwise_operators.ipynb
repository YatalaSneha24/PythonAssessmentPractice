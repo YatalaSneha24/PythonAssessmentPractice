{
  "nbformat": 4,
  "nbformat_minor": 0,
  "metadata": {
    "colab": {
      "provenance": [],
      "authorship_tag": "ABX9TyPpNqGrXLgCa+pJ5rrKWzUe",
      "include_colab_link": true
    },
    "kernelspec": {
      "name": "python3",
      "display_name": "Python 3"
    },
    "language_info": {
      "name": "python"
    }
  },
  "cells": [
    {
      "cell_type": "markdown",
      "metadata": {
        "id": "view-in-github",
        "colab_type": "text"
      },
      "source": [
        "<a href=\"https://colab.research.google.com/github/YatalaSneha24/PythonAssessmentPractice/blob/main/lab19Bitwise_operators.ipynb\" target=\"_parent\"><img src=\"https://colab.research.google.com/assets/colab-badge.svg\" alt=\"Open In Colab\"/></a>"
      ]
    },
    {
      "cell_type": "code",
      "execution_count": null,
      "metadata": {
        "colab": {
          "base_uri": "https://localhost:8080/"
        },
        "id": "A_RMfhouteGR",
        "outputId": "cd18049a-0334-4357-e8c7-d34760bd71d0"
      },
      "outputs": [
        {
          "output_type": "stream",
          "name": "stdout",
          "text": [
            "Bitwise AND: 9 & 5 = 1 (binary: 0b1)\n",
            "Bitwise OR: 9 | 5 = 1 (binary: 0b1101)\n",
            "Bitwise XOR: 9 ^ 5 = 1 (binary: 0b1100)\n",
            "Bitwise NOT: ~9= -10 (binary: -0b1010)\n",
            "Bitwise NOT: ~5= -6 (binary: -0b110)\n",
            "Bitwise right shift: 9 >> 5 = 0 (binary: 0b0)\n",
            "Bitwise right shift: 9 << 5 = 288 (binary: 0b100100000)\n"
          ]
        }
      ],
      "source": [
        "#Implemeting Bitwise operators\n",
        "\n",
        "#Creating two variables\n",
        "y = 9   # 9 = 1001\n",
        "s = 5   # 5 = 0101\n",
        "\n",
        "#Performing bitwise AND, OR and XNOR\n",
        "print(\"Bitwise AND: 9 & 5 =\", y & s, \"(binary:\", bin(y & s)+ \")\")\n",
        "print(\"Bitwise OR: 9 | 5 =\", y & s, \"(binary:\", bin(y | s)+ \")\")\n",
        "print(\"Bitwise XOR: 9 ^ 5 =\", y & s, \"(binary:\", bin(y ^ s)+ \")\")\n",
        "\n",
        "#Performing bitwise NOT\n",
        "print(\"Bitwise NOT: ~9=\", ~y, \"(binary:\", bin(~y) +\")\")\n",
        "print(\"Bitwise NOT: ~5=\", ~s, \"(binary:\", bin(~s) +\")\")\n",
        "\n",
        "#Bitwise Shifts\n",
        "print(\"Bitwise right shift: 9 >> 5 =\", y >> s, \"(binary:\", bin(y >> s) + \")\")\n",
        "print(\"Bitwise right shift: 9 << 5 =\", y << s, \"(binary:\", bin(y << s) + \")\")"
      ]
    }
  ]
}