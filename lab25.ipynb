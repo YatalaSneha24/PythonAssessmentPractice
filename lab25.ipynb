{
  "nbformat": 4,
  "nbformat_minor": 0,
  "metadata": {
    "colab": {
      "provenance": [],
      "authorship_tag": "ABX9TyPUVu+K+qVQUF2ViLMecKr+",
      "include_colab_link": true
    },
    "kernelspec": {
      "name": "python3",
      "display_name": "Python 3"
    },
    "language_info": {
      "name": "python"
    }
  },
  "cells": [
    {
      "cell_type": "markdown",
      "metadata": {
        "id": "view-in-github",
        "colab_type": "text"
      },
      "source": [
        "<a href=\"https://colab.research.google.com/github/YatalaSneha24/PythonAssessmentPractice/blob/main/lab25.ipynb\" target=\"_parent\"><img src=\"https://colab.research.google.com/assets/colab-badge.svg\" alt=\"Open In Colab\"/></a>"
      ]
    },
    {
      "cell_type": "code",
      "execution_count": 1,
      "metadata": {
        "id": "_62ele8BVdqB",
        "colab": {
          "base_uri": "https://localhost:8080/"
        },
        "outputId": "65fbf70a-e32c-4c6f-aba4-67cff390b78b"
      },
      "outputs": [
        {
          "output_type": "stream",
          "name": "stdout",
          "text": [
            "Input the temperature you like to convert? (e.g., 45F, 102C)102c\n",
            "The temperature in Fahrenheti is 216 degrees\n"
          ]
        }
      ],
      "source": [
        "#Implement the python code for Convert temperatures to and from celsius, fahrenheit\n",
        "\n",
        "# Prompt the user to input a temperature in the format (e.g., 35F, 102C etc.)\n",
        "temp=input(\"Input the temperature you like to convert? (e.g., 45F, 102C)\")\n",
        "\n",
        "#Extract the numerical part of the temperature and convert it to an integer\n",
        "degree = int(temp[:-1])\n",
        "\n",
        "#Extracting the convention part of the temperature input (either C or F)\n",
        "convention_i = temp[-1]  #checking if the input convention is in uppercase C (Celsius)\n",
        "if convention_i.upper() == 'C':\n",
        "    result = int(round((9 * degree) / 5 + 32))\n",
        "    convention1 = 'Fahrenheti'\n",
        "elif convention_i.upper() == 'F':\n",
        "     result = int(round((degree - 32) * 5 / 9))\n",
        "     convention1 = 'Celcius'\n",
        "else:\n",
        "  #If the input convention is neither C or F print an error message and exit the program\n",
        "  print(\"Input proper Convention.\")\n",
        "  quit()\n",
        "print(\"The temperature in\", convention1, \"is\", result, 'degrees')\n",
        "\n",
        "\n",
        "\n"
      ]
    },
    {
      "cell_type": "code",
      "source": [],
      "metadata": {
        "id": "RWcv0e7ImdMC"
      },
      "execution_count": null,
      "outputs": []
    }
  ]
}