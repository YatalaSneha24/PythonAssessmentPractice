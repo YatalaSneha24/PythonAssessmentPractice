{
  "nbformat": 4,
  "nbformat_minor": 0,
  "metadata": {
    "colab": {
      "provenance": [],
      "authorship_tag": "ABX9TyN5VzWvHamKlan5cohOS4TN",
      "include_colab_link": true
    },
    "kernelspec": {
      "name": "python3",
      "display_name": "Python 3"
    },
    "language_info": {
      "name": "python"
    }
  },
  "cells": [
    {
      "cell_type": "markdown",
      "metadata": {
        "id": "view-in-github",
        "colab_type": "text"
      },
      "source": [
        "<a href=\"https://colab.research.google.com/github/YatalaSneha24/PythonAssessmentPractice/blob/main/lab27.ipynb\" target=\"_parent\"><img src=\"https://colab.research.google.com/assets/colab-badge.svg\" alt=\"Open In Colab\"/></a>"
      ]
    },
    {
      "cell_type": "code",
      "execution_count": null,
      "metadata": {
        "colab": {
          "base_uri": "https://localhost:8080/"
        },
        "id": "rE5kZ8Uz0-CP",
        "outputId": "de257e30-d5b6-4ebc-8999-8888de873b6f"
      },
      "outputs": [
        {
          "output_type": "stream",
          "name": "stdout",
          "text": [
            "Y\n",
            "a\n",
            "t\n",
            "a\n",
            "l\n",
            "a\n",
            " \n",
            "S\n",
            "n\n",
            "e\n",
            "h\n",
            "a\n"
          ]
        }
      ],
      "source": [
        "#A string\n",
        "word = \"Yatala Sneha\"\n",
        "\n",
        "#Using a for loop to iterate over each charcter\n",
        "for letter in word:\n",
        "    print(letter)"
      ]
    },
    {
      "cell_type": "code",
      "source": [
        "#Using range to iterate from 0 to 4\n",
        "for i in range(0,5):\n",
        "  print(i)"
      ],
      "metadata": {
        "colab": {
          "base_uri": "https://localhost:8080/"
        },
        "id": "nKrPGVDc34IE",
        "outputId": "577be9a9-71b3-4762-f122-76e8dd334e38"
      },
      "execution_count": null,
      "outputs": [
        {
          "output_type": "stream",
          "name": "stdout",
          "text": [
            "0\n",
            "1\n",
            "2\n",
            "3\n",
            "4\n"
          ]
        }
      ]
    },
    {
      "cell_type": "code",
      "source": [
        "#Number of rows for the triangle\n",
        "rows = 5\n",
        "\n",
        "#Outer loop for the number of rows\n",
        "for i in range(1, rows + 1):\n",
        "  # Inner loop for printing asterisks in each now\n",
        "  for j in range(i):\n",
        "      print(\"*\", end=' ')\n",
        "  print()"
      ],
      "metadata": {
        "colab": {
          "base_uri": "https://localhost:8080/"
        },
        "id": "8aClb-FW56N7",
        "outputId": "42ba73bb-3f99-4023-dbf5-a7d8e2624a23"
      },
      "execution_count": null,
      "outputs": [
        {
          "output_type": "stream",
          "name": "stdout",
          "text": [
            "* \n",
            "* * \n",
            "* * * \n",
            "* * * * \n",
            "* * * * * \n"
          ]
        }
      ]
    },
    {
      "cell_type": "code",
      "source": [
        "#Inverted triangle using nested for loop\n",
        "\n",
        "rows = 5\n",
        "for i in range(rows, 0, -1):\n",
        "  for j in range(i):\n",
        "    print(\"^\", end=' ')\n",
        "  print()\n"
      ],
      "metadata": {
        "colab": {
          "base_uri": "https://localhost:8080/"
        },
        "id": "2Q33EX--Go_Q",
        "outputId": "98c43d96-3f6f-4430-c08f-43f1ca7fb89d"
      },
      "execution_count": 10,
      "outputs": [
        {
          "output_type": "stream",
          "name": "stdout",
          "text": [
            "^ ^ ^ ^ ^ \n",
            "^ ^ ^ ^ \n",
            "^ ^ ^ \n",
            "^ ^ \n",
            "^ \n"
          ]
        }
      ]
    },
    {
      "cell_type": "code",
      "source": [
        "# Using break to exit the loop when a condition is met\n",
        "for i in range(10):\n",
        "    if i == 5:\n",
        "       break\n",
        "    print(i)"
      ],
      "metadata": {
        "colab": {
          "base_uri": "https://localhost:8080/"
        },
        "id": "4ynJDd2GBPoE",
        "outputId": "04eb2f7d-eaa2-4b69-ecf1-79233e4eacbb"
      },
      "execution_count": null,
      "outputs": [
        {
          "output_type": "stream",
          "name": "stdout",
          "text": [
            "0\n",
            "1\n",
            "2\n",
            "3\n",
            "4\n"
          ]
        }
      ]
    },
    {
      "cell_type": "code",
      "source": [
        "#for loop with continue\n",
        "\n",
        "#skipping even numbers\n",
        "for i in range(10):\n",
        "  if i % 2 == 0:          # % means modulus - it gives the reminder of division\n",
        "    continue\n",
        "  print(i)"
      ],
      "metadata": {
        "colab": {
          "base_uri": "https://localhost:8080/"
        },
        "id": "CIaNXztZBUQV",
        "outputId": "932197ba-700a-4f20-a048-b4064441d673"
      },
      "execution_count": 4,
      "outputs": [
        {
          "output_type": "stream",
          "name": "stdout",
          "text": [
            "1\n",
            "3\n",
            "5\n",
            "7\n",
            "9\n"
          ]
        }
      ]
    },
    {
      "cell_type": "code",
      "source": [
        "#For loop with else\n",
        "\n",
        "for i in range(4):\n",
        "  print(i)\n",
        "else:\n",
        "  print(\"Loop completed succesfully.\")"
      ],
      "metadata": {
        "colab": {
          "base_uri": "https://localhost:8080/"
        },
        "id": "DLuD20MNGUJ5",
        "outputId": "77896546-8014-47de-d87d-6d89b706f500"
      },
      "execution_count": 5,
      "outputs": [
        {
          "output_type": "stream",
          "name": "stdout",
          "text": [
            "0\n",
            "1\n",
            "2\n",
            "3\n",
            "Loop completed succesfully.\n"
          ]
        }
      ]
    }
  ]
}