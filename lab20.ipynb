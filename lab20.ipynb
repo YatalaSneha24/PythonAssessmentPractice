{
  "nbformat": 4,
  "nbformat_minor": 0,
  "metadata": {
    "colab": {
      "provenance": [],
      "authorship_tag": "ABX9TyOTq9jn1AQSrfEiGOnxdymI",
      "include_colab_link": true
    },
    "kernelspec": {
      "name": "python3",
      "display_name": "Python 3"
    },
    "language_info": {
      "name": "python"
    }
  },
  "cells": [
    {
      "cell_type": "markdown",
      "metadata": {
        "id": "view-in-github",
        "colab_type": "text"
      },
      "source": [
        "<a href=\"https://colab.research.google.com/github/YatalaSneha24/PythonAssessmentPractice/blob/main/lab20.ipynb\" target=\"_parent\"><img src=\"https://colab.research.google.com/assets/colab-badge.svg\" alt=\"Open In Colab\"/></a>"
      ]
    },
    {
      "cell_type": "code",
      "execution_count": 2,
      "metadata": {
        "colab": {
          "base_uri": "https://localhost:8080/"
        },
        "id": "qX0L_19_KBWX",
        "outputId": "8e11d620-fbe7-4e4d-9e5f-4b7083143124"
      },
      "outputs": [
        {
          "output_type": "stream",
          "name": "stdout",
          "text": [
            "x is y: False\n",
            "x is z: True\n",
            "x is not y: True\n",
            "x is not z: False\n",
            "30 in sequence: True\n",
            "50 in sequence: False\n",
            "30 not in sequence: False\n",
            "50 not in sequence: True\n"
          ]
        }
      ],
      "source": [
        "#Identify Comparisions\n",
        "x = [2,3,4]\n",
        "y = [2,3,4]\n",
        "z = x\n",
        "\n",
        "print(f\"x is y: {x is y}\") #False, x and y are different objects\n",
        "print(f\"x is z: {x is z}\") #True, x and z refer to same objects\n",
        "print(f\"x is not y: {x is not y}\")  #True, x and y are different objects\n",
        "print(f\"x is not z: {x is not z}\") #false, x and z refer to same objects\n",
        "\n",
        "#Membership Operators\n",
        "numbers = [ 10,20,30,40 ]\n",
        "value = 30\n",
        "value_not_in = 50\n",
        "\n",
        "#membership checks\n",
        "print(f\"{value} in sequence: {value in numbers}\")\n",
        "print(f\"{value_not_in} in sequence: {value_not_in in numbers }\")\n",
        "print(f\"{value} not in sequence: {value not in numbers}\")\n",
        "print(f\"{value_not_in} not in sequence: {value_not_in not in numbers }\")"
      ]
    }
  ]
}