{
  "nbformat": 4,
  "nbformat_minor": 0,
  "metadata": {
    "colab": {
      "provenance": [],
      "authorship_tag": "ABX9TyMzrAiD0vU5ySzXfB4mARjM",
      "include_colab_link": true
    },
    "kernelspec": {
      "name": "python3",
      "display_name": "Python 3"
    },
    "language_info": {
      "name": "python"
    }
  },
  "cells": [
    {
      "cell_type": "markdown",
      "metadata": {
        "id": "view-in-github",
        "colab_type": "text"
      },
      "source": [
        "<a href=\"https://colab.research.google.com/github/YatalaSneha24/PythonAssessmentPractice/blob/main/lab31multiplication_table.ipynb\" target=\"_parent\"><img src=\"https://colab.research.google.com/assets/colab-badge.svg\" alt=\"Open In Colab\"/></a>"
      ]
    },
    {
      "cell_type": "code",
      "execution_count": 3,
      "metadata": {
        "colab": {
          "base_uri": "https://localhost:8080/"
        },
        "id": "ybd_jIkCcRLy",
        "outputId": "0b66f216-d456-48fc-d696-33a1ee133c62"
      },
      "outputs": [
        {
          "output_type": "stream",
          "name": "stdout",
          "text": [
            "Enter a number tp create it's multiplication table:20\n",
            "Multiplication Table for 20:\n",
            "20 x 1 = 20\n",
            "20 x 2 = 40\n",
            "20 x 3 = 60\n",
            "20 x 4 = 80\n",
            "20 x 5 = 100\n",
            "20 x 6 = 120\n",
            "20 x 7 = 140\n",
            "20 x 8 = 160\n",
            "20 x 9 = 180\n",
            "20 x 10 = 200\n"
          ]
        }
      ],
      "source": [
        "''' Write a Python program to create\n",
        "the multiplication table (from 1 to 10) of a number. '''\n",
        "\n",
        "number = int(input(\"Enter a number tp create it's multiplication table:\"))\n",
        "print(f\"Multiplication Table for {number}:\")\n",
        "\n",
        "#loop to generate multiplication table\n",
        "for i in range (1, 11):\n",
        "  result = number * i\n",
        "  print(f\"{number} x {i} = {result}\")"
      ]
    }
  ]
}