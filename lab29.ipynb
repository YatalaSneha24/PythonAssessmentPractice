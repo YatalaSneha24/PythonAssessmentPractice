{
  "nbformat": 4,
  "nbformat_minor": 0,
  "metadata": {
    "colab": {
      "provenance": [],
      "authorship_tag": "ABX9TyM2nTOyLXKjTPbWQTWyPKCy",
      "include_colab_link": true
    },
    "kernelspec": {
      "name": "python3",
      "display_name": "Python 3"
    },
    "language_info": {
      "name": "python"
    }
  },
  "cells": [
    {
      "cell_type": "markdown",
      "metadata": {
        "id": "view-in-github",
        "colab_type": "text"
      },
      "source": [
        "<a href=\"https://colab.research.google.com/github/YatalaSneha24/PythonAssessmentPractice/blob/main/lab29.ipynb\" target=\"_parent\"><img src=\"https://colab.research.google.com/assets/colab-badge.svg\" alt=\"Open In Colab\"/></a>"
      ]
    },
    {
      "cell_type": "code",
      "execution_count": 4,
      "metadata": {
        "colab": {
          "base_uri": "https://localhost:8080/"
        },
        "id": "3wbW3B5_QNGR",
        "outputId": "f0d413a5-3910-414c-fa24-2ef20c8d4dbc"
      },
      "outputs": [
        {
          "output_type": "stream",
          "name": "stdout",
          "text": [
            "Enter the starting number:1\n",
            "Enter the end number:100\n",
            "Numbers between 1 and 100 that are divisible by 3 and multiples of 5:\n",
            "15\n",
            "30\n",
            "45\n",
            "60\n",
            "75\n",
            "90\n"
          ]
        }
      ],
      "source": [
        "'''Write a Python program to find those numbers\n",
        " which are divisible by 3 and multiples of 5,\n",
        " between given two numbers read by user. '''\n",
        "\n",
        "start_number = int(input(\"Enter the starting number:\"))\n",
        "end_number = int(input(\"Enter the end number:\"))\n",
        "\n",
        "#Ensure the start number is less than the end number\n",
        "if start_number > end_number:\n",
        "  print(\"The starting number must be less than the ending number.\")\n",
        "else:\n",
        "  #Iterate through the range of numbers\n",
        "  print(f\"Numbers between {start_number} and {end_number} that are divisible by 3 and multiples of 5:\")\n",
        "  for num in range(start_number, end_number + 1):\n",
        "    if num % 3 == 0 and num % 5 == 0:\n",
        "      print(num)\n",
        ""
      ]
    }
  ]
}