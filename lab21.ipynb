{
  "nbformat": 4,
  "nbformat_minor": 0,
  "metadata": {
    "colab": {
      "provenance": [],
      "authorship_tag": "ABX9TyOkoWJGPADgRQB/on8dfCs2",
      "include_colab_link": true
    },
    "kernelspec": {
      "name": "python3",
      "display_name": "Python 3"
    },
    "language_info": {
      "name": "python"
    }
  },
  "cells": [
    {
      "cell_type": "markdown",
      "metadata": {
        "id": "view-in-github",
        "colab_type": "text"
      },
      "source": [
        "<a href=\"https://colab.research.google.com/github/YatalaSneha24/PythonAssessmentPractice/blob/main/lab21.ipynb\" target=\"_parent\"><img src=\"https://colab.research.google.com/assets/colab-badge.svg\" alt=\"Open In Colab\"/></a>"
      ]
    },
    {
      "cell_type": "code",
      "execution_count": 4,
      "metadata": {
        "colab": {
          "base_uri": "https://localhost:8080/"
        },
        "id": "I_JjeuKTieoq",
        "outputId": "ff47be73-04cf-41d3-826b-aa8a098656e6"
      },
      "outputs": [
        {
          "output_type": "stream",
          "name": "stdout",
          "text": [
            "Enter your name: Yatala Sneha\n",
            "Enter your age: 22\n",
            "Enter the two values numbers seperated by space: 2 4\n",
            "Sum of 2 and 4 is: 6\n",
            "Enter your marks(out of 100):35\n",
            "Sorry, you failed in exam but not in life.\n"
          ]
        }
      ],
      "source": [
        "#Prompting the User for Input\n",
        "\n",
        "name = input(\"Enter your name: \")\n",
        "\n",
        "#Converting input to different data types\n",
        "age = int(input(\"Enter your age: \"))\n",
        "\n",
        "#Handling multiple inputs\n",
        "y,s = map(int,input(\"Enter the two values numbers seperated by space: \").split())\n",
        "print(f\"Sum of {y} and {s} is: {y+s}\")\n",
        "\n",
        "#Decision making based on user input\n",
        "marks = int(input(\"Enter your marks(out of 100):\"))\n",
        "if marks >= 100:\n",
        "  print(\"Horray! You passed the exam.\")\n",
        "else:\n",
        "  print(\"Sorry, you failed in exam but not in life.\")"
      ]
    }
  ]
}