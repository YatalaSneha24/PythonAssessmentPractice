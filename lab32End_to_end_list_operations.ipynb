{
  "nbformat": 4,
  "nbformat_minor": 0,
  "metadata": {
    "colab": {
      "provenance": [],
      "authorship_tag": "ABX9TyNT2kCP16wvEfhIKw5Yv1Y9",
      "include_colab_link": true
    },
    "kernelspec": {
      "name": "python3",
      "display_name": "Python 3"
    },
    "language_info": {
      "name": "python"
    }
  },
  "cells": [
    {
      "cell_type": "markdown",
      "metadata": {
        "id": "view-in-github",
        "colab_type": "text"
      },
      "source": [
        "<a href=\"https://colab.research.google.com/github/YatalaSneha24/PythonAssessmentPractice/blob/main/lab32End_to_end_list_operations.ipynb\" target=\"_parent\"><img src=\"https://colab.research.google.com/assets/colab-badge.svg\" alt=\"Open In Colab\"/></a>"
      ]
    },
    {
      "cell_type": "code",
      "execution_count": 31,
      "metadata": {
        "colab": {
          "base_uri": "https://localhost:8080/"
        },
        "id": "2VLdwC_FfEi6",
        "outputId": "49a83dc3-f732-41ea-d5be-87f452365121"
      },
      "outputs": [
        {
          "output_type": "stream",
          "name": "stdout",
          "text": [
            "Original List: ['apple', 'banana', 'grapes', 'cherry', 'mango', 'orange']\n",
            "First fruit: apple\n",
            "Last fruit: orange\n",
            "Sublist of first four fruits: ['apple', 'banana', 'grapes', 'cherry']\n",
            "The fruits list after 'kiwi' is added: ['apple', 'banana', 'grapes', 'cherry', 'mango', 'orange', 'kiwi']\n",
            "['dragon fruit', 'apple', 'banana', 'grapes', 'cherry', 'mango', 'orange', 'kiwi']\n",
            "['dragon fruit', 'apple', 'banana', 'grapes', 'cherry', 'orange', 'kiwi']\n",
            "Popped fruit: kiwi\n",
            "list after popping the last fruit:  ['dragon fruit', 'apple', 'banana', 'grapes', 'cherry', 'orange']\n",
            "Number of fruits in the list: 6\n",
            "Is 'banana' is in the list?  True\n",
            "Iterating over the list:\n",
            "dragon fruit\n",
            "apple\n",
            "banana\n",
            "grapes\n",
            "cherry\n",
            "orange\n",
            "List after sorting alphabetically:  ['apple', 'banana', 'cherry', 'dragon fruit', 'grapes', 'orange']\n",
            "List after reversing the order:  ['orange', 'grapes', 'dragon fruit', 'cherry', 'banana', 'apple']\n",
            "Fruits with more than 5 letters:  ['orange', 'grapes', 'dragon fruit', 'cherry', 'banana', 'apple']\n",
            "Copied list of fruits:  ['orange', 'grapes', 'dragon fruit', 'cherry', 'banana', 'apple']\n",
            "List of fruits after clearing all elements: []\n",
            "Fruits list after extending with vegetables:   ['orange', 'grapes', 'dragon fruit', 'cherry', 'banana', 'apple', 'carrot', 'broccli', 'spring onion', 'potato']\n",
            "Number of 'cherry' in the list:  1\n",
            "Index of 'broccli':  7\n",
            "list after removing element at index 2:  ['orange', 'grapes', 'cherry', 'banana', 'apple', 'carrot', 'broccli', 'spring onion', 'potato']\n",
            "Nested list:  [['orange', 'grapes', 'cherry', 'banana', 'apple', 'carrot', 'broccli', 'spring onion', 'potato'], ['carrot', 'broccli', 'spring onion', 'potato']]\n"
          ]
        }
      ],
      "source": [
        "#Implementation of End-to-End List Operations\n",
        "\n",
        "#Task 1:  Implementation of Creating a list\n",
        "fruits = ['apple', 'banana', 'grapes', 'cherry', 'mango', 'orange']\n",
        "print(\"Original List:\", fruits)\n",
        "\n",
        "#Task 2:  Implementation of Accessing Elements in a List\n",
        "first_fruit = fruits[0]\n",
        "last_fruit = fruits[-1]\n",
        "print(\"First fruit:\", first_fruit)\n",
        "print(\"Last fruit:\", last_fruit)\n",
        "\n",
        "#Task 3:  Implementation of Slicing a List\n",
        "sublist_fruits = fruits[:4]\n",
        "print(\"Sublist of first four fruits:\", sublist_fruits)\n",
        "\n",
        "#Task 4:  Implementation of Adding elements to a List\n",
        "fruits.append('kiwi')\n",
        "print(\"The fruits list after 'kiwi' is added:\", fruits)\n",
        "\n",
        "#Task 5:  Implementation of Inserting elements into a list\n",
        "fruits.insert(0, 'dragon fruit')\n",
        "print(fruits)\n",
        "\n",
        "#Task 6:  Implementation of Removing elements from a List\n",
        "fruits.remove(\"mango\")\n",
        "print(fruits)\n",
        "\n",
        "#Task 7:  Implementation of Popping Elements from a List\n",
        "popped_fruit = fruits.pop()  # Removes and returns the last item\n",
        "print(\"Popped fruit:\", popped_fruit)\n",
        "print(\"list after popping the last fruit: \",fruits)\n",
        "\n",
        "#Task 8:  Implementation of finding the lenght of list\n",
        "length = len(fruits)\n",
        "print(\"Number of fruits in the list:\", length)\n",
        "\n",
        "#Task 9:  Implementation of checking membership in a list\n",
        "is_in_list = \"banana\" in fruits\n",
        "print(\"Is 'banana' is in the list? \",is_in_list)\n",
        "\n",
        "#Task 10:  Implementation of Iterating over a list\n",
        "print(\"Iterating over the list:\")\n",
        "for fruit in fruits:\n",
        "  print(fruit)\n",
        "\n",
        "#Task 11:  Implementation of  sorting a list\n",
        "fruits.sort()\n",
        "print(\"List after sorting alphabetically: \", fruits)\n",
        "\n",
        "#Task 12:  Implementation of reversing a list\n",
        "fruits.reverse()\n",
        "print(\"List after reversing the order: \", fruits)\n",
        "\n",
        "#Task 13:  Implementation of  list comperhensions\n",
        "long_fruits = [ fruit for fruit in fruits if len(fruit) > 5]\n",
        "print(\"Fruits with more than 5 letters: \", fruits)\n",
        "\n",
        "#Task 14:  Implementation of copying a list\n",
        "fruits_copy = fruits.copy()\n",
        "print(\"Copied list of fruits: \", fruits_copy)\n",
        "\n",
        "#Task 15:  Implementation of clearing a list\n",
        "fruits.clear()\n",
        "print(\"List of fruits after clearing all elements:\", fruits)\n",
        "\n",
        "#Task 16:  Implementation of extending a list with another list\n",
        "vegetables = ['carrot', 'broccli', 'spring onion', 'potato']\n",
        "fruits_copy.extend(vegetables)\n",
        "print(\"Fruits list after extending with vegetables:  \", fruits_copy)\n",
        "\n",
        "#Task 17:  Implementation of  counting occurrences of an element in a list\n",
        "num_cherry = fruits_copy.count('cherry')\n",
        "print(\"Number of 'cherry' in the list: \", num_cherry)\n",
        "\n",
        "#Task 18:  Implementation of finding the index of an element\n",
        "if 'broccli' in fruits_copy:\n",
        "  broccli_index = fruits_copy.index('broccli')\n",
        "  print(\"Index of 'broccli': \", broccli_index)\n",
        "\n",
        "#Task 19:  Implementation of  removing an element by index\n",
        "if len(fruits_copy) > 2:\n",
        "  del fruits_copy[2]\n",
        "print(\"list after removing element at index 2: \", fruits_copy)\n",
        "\n",
        "#Task 20:  Implementation of nested list\n",
        "nested_list = [fruits_copy, vegetables]\n",
        "print(\"Nested list: \", nested_list)"
      ]
    },
    {
      "cell_type": "code",
      "source": [],
      "metadata": {
        "id": "jROPwBPFo0n4"
      },
      "execution_count": null,
      "outputs": []
    }
  ]
}