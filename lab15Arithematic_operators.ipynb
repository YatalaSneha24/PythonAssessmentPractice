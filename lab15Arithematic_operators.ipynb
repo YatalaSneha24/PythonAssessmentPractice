{
  "nbformat": 4,
  "nbformat_minor": 0,
  "metadata": {
    "colab": {
      "provenance": [],
      "authorship_tag": "ABX9TyOsl2sIkMXKYK98qaMa132e",
      "include_colab_link": true
    },
    "kernelspec": {
      "name": "python3",
      "display_name": "Python 3"
    },
    "language_info": {
      "name": "python"
    }
  },
  "cells": [
    {
      "cell_type": "markdown",
      "metadata": {
        "id": "view-in-github",
        "colab_type": "text"
      },
      "source": [
        "<a href=\"https://colab.research.google.com/github/YatalaSneha24/PythonAssessmentPractice/blob/main/lab15Arithematic_operators.ipynb\" target=\"_parent\"><img src=\"https://colab.research.google.com/assets/colab-badge.svg\" alt=\"Open In Colab\"/></a>"
      ]
    },
    {
      "cell_type": "code",
      "execution_count": null,
      "metadata": {
        "colab": {
          "base_uri": "https://localhost:8080/"
        },
        "id": "F-sOqSYGf4UH",
        "outputId": "1704a7c0-a217-40b4-dc21-ba6bb812d096"
      },
      "outputs": [
        {
          "output_type": "stream",
          "name": "stdout",
          "text": [
            "Addition: 5 + 4 = 9\n",
            "Subtraction: 5 - 4 = 1\n",
            "Multiplication: 5 * 4 = 20\n",
            "Division: 5 / 4 = 1.25\n",
            "Floor Division: 5 // 4 = 1\n",
            "Modulus: 5 % 4 = 1\n",
            "Exponentiation: 5 ** 4 = 625\n"
          ]
        }
      ],
      "source": [
        "'''Implementation of Arithmetic Operators in Python '''\n",
        "#Assigning values to variables\n",
        "y = 5\n",
        "s = 4\n",
        "\n",
        "#Addition\n",
        "add_result = y+s\n",
        "print(\"Addition: {} + {} = {}\".format(y,s, add_result))\n",
        "\n",
        "#Subtraction\n",
        "sub_result = y-s\n",
        "print(\"Subtraction: {} - {} = {}\".format(y,s, sub_result))\n",
        "\n",
        "#Multiplication\n",
        "mul_result = y*s\n",
        "print(\"Multiplication: {} * {} = {}\".format(y,s, mul_result))\n",
        "\n",
        "#Division\n",
        "div_result = y/s\n",
        "print(\"Division: {} / {} = {}\".format(y,s, div_result))\n",
        "\n",
        "#Floor Division\n",
        "fl_result = y // s\n",
        "print(\"Floor Division: {} // {} = {}\".format(y,s, fl_result))\n",
        "\n",
        "#Modulus\n",
        "mod_result = y % s\n",
        "print(\"Modulus: {} % {} = {}\".format(y,s, mod_result))\n",
        "\n",
        "#Exponentiation\n",
        "exp_result = y ** s\n",
        "print(\"Exponentiation: {} ** {} = {}\".format(y,s, exp_result))"
      ]
    }
  ]
}