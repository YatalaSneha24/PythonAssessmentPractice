{
  "nbformat": 4,
  "nbformat_minor": 0,
  "metadata": {
    "colab": {
      "provenance": [],
      "authorship_tag": "ABX9TyPEPFb/dGEClLu399bzZL3i",
      "include_colab_link": true
    },
    "kernelspec": {
      "name": "python3",
      "display_name": "Python 3"
    },
    "language_info": {
      "name": "python"
    }
  },
  "cells": [
    {
      "cell_type": "markdown",
      "metadata": {
        "id": "view-in-github",
        "colab_type": "text"
      },
      "source": [
        "<a href=\"https://colab.research.google.com/github/YatalaSneha24/PythonAssessmentPractice/blob/main/lab22.ipynb\" target=\"_parent\"><img src=\"https://colab.research.google.com/assets/colab-badge.svg\" alt=\"Open In Colab\"/></a>"
      ]
    },
    {
      "cell_type": "code",
      "execution_count": 8,
      "metadata": {
        "colab": {
          "base_uri": "https://localhost:8080/"
        },
        "id": "8wvgt0fBlJX_",
        "outputId": "20169d6e-8207-4af3-c9b0-e092ac302d3e"
      },
      "outputs": [
        {
          "output_type": "stream",
          "name": "stdout",
          "text": [
            "Enter the temparature of water: 90\n",
            "Water is at boiling point!\n",
            "Enter the number: -78\n",
            "It is a negative integer.\n",
            "Enter your marks: 80\n",
            "First Class\n",
            "Enter the number: 65\n",
            "65 is positive.\n"
          ]
        }
      ],
      "source": [
        "#Implementing if statements to check single conditions\n",
        "\n",
        "water = int(input(\"Enter the temparature of water: \"))\n",
        "if water >= 90:\n",
        "  print(\"Water is at boiling point!\")\n",
        "\n",
        "#Implementing if-else statement to check single conditions\n",
        "value = int(input(\"Enter the number: \"))\n",
        "if value >= 0:\n",
        "  print(\"It is a positive integer.\")\n",
        "else:\n",
        "  print(\"It is a negative integer.\")\n",
        "\n",
        "#Implementing if-elif-else statements for checking multiple conditions in sequence\n",
        "marks = int(input(\"Enter your marks: \"))\n",
        "if marks >= 90:\n",
        "  print(\"First Class with Distinction\")\n",
        "elif marks >= 80:\n",
        "  print(\"First Class\")\n",
        "elif marks >= 70:\n",
        "  print(\"Second Class\")\n",
        "elif marks >= 60:\n",
        "  print(\"Third Class\")\n",
        "else:\n",
        "  print(\"Failed\")\n",
        "\n",
        "#Implementing Nested if statement  for more complex conditions\n",
        "number = int(input(\"Enter the number: \"))\n",
        "if number > 0:\n",
        "   if number == 0:\n",
        "    print(f\"{number} is zero.\")\n",
        "   else:\n",
        "    print(f\"{number} is positive.\")\n",
        "else:\n",
        "  print(f\"{number} is negative.\")\n",
        "\n",
        "\n",
        "\n",
        "\n",
        "\n"
      ]
    },
    {
      "cell_type": "code",
      "source": [],
      "metadata": {
        "id": "MbvXUd3Io783"
      },
      "execution_count": null,
      "outputs": []
    }
  ]
}