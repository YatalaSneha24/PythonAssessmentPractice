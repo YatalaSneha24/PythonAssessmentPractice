{
  "nbformat": 4,
  "nbformat_minor": 0,
  "metadata": {
    "colab": {
      "provenance": [],
      "authorship_tag": "ABX9TyNVZsbpEjC7i3Weny7JpMaW",
      "include_colab_link": true
    },
    "kernelspec": {
      "name": "python3",
      "display_name": "Python 3"
    },
    "language_info": {
      "name": "python"
    }
  },
  "cells": [
    {
      "cell_type": "markdown",
      "metadata": {
        "id": "view-in-github",
        "colab_type": "text"
      },
      "source": [
        "<a href=\"https://colab.research.google.com/github/YatalaSneha24/PythonAssessmentPractice/blob/main/lab23.ipynb\" target=\"_parent\"><img src=\"https://colab.research.google.com/assets/colab-badge.svg\" alt=\"Open In Colab\"/></a>"
      ]
    },
    {
      "cell_type": "code",
      "execution_count": 5,
      "metadata": {
        "colab": {
          "base_uri": "https://localhost:8080/"
        },
        "id": "sEDdV1H4wHWF",
        "outputId": "e991fb0c-85d0-4074-b4cb-c3bb5e9c3ea0"
      },
      "outputs": [
        {
          "output_type": "stream",
          "name": "stdout",
          "text": [
            "Enter the value 1: 6\n",
            "Enter the value 2: 5\n",
            "The sum of 6 and 5 is 15 \n",
            "Enter the first integer: 4\n",
            "Enter the second integer: 12\n",
            "Output is 15\n",
            "The sum lies between 10 and 20, so the result is set to 15.\n"
          ]
        }
      ],
      "source": [
        "'''APython program to sum two integers read by user.\n",
        " However, if the sum is between 10 and 20 it will print 15.\n",
        " else print 0\n",
        "'''\n",
        "# My own method\n",
        "int1 = int(input(\"Enter the value 1: \"))\n",
        "int2 = int(input(\"Enter the value 2: \"))\n",
        "sum = int1 + int2\n",
        "if sum > 10:\n",
        "  if sum < 20:\n",
        "    print(f\"The sum of {int1} and {int2} is 15 \")\n",
        "else:\n",
        "  print(f\"The sum of {int1} and {int2} is 0\")\n",
        "\n",
        "# Method used in lab activity doc\n",
        "num1 = int(input(\"Enter the first integer: \"))\n",
        "num2 = int(input(\"Enter the second integer: \"))\n",
        "sum_of_integers = num1 + num2\n",
        "if 10 <= sum_of_integers <= 20:\n",
        "  print(\"Output is 15\")\n",
        "else:\n",
        "  print(\"output is zero\")\n",
        "#Providing Informative Feedback\n",
        "\n",
        "if 10 <= sum_of_integers <= 20:\n",
        "  print(\"The sum lies between 10 and 20, so the result is set to 15.\")\n",
        "else:\n",
        "  print(\"The sum is outside the rangle of 10-20, so the result is set to 0.\")"
      ]
    },
    {
      "cell_type": "code",
      "source": [],
      "metadata": {
        "id": "MYwrTPVNypwf"
      },
      "execution_count": null,
      "outputs": []
    }
  ]
}