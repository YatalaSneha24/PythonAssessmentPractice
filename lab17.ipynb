{
  "nbformat": 4,
  "nbformat_minor": 0,
  "metadata": {
    "colab": {
      "provenance": [],
      "authorship_tag": "ABX9TyPPpYtwd74Nd5PkHwyrqW8t",
      "include_colab_link": true
    },
    "kernelspec": {
      "name": "python3",
      "display_name": "Python 3"
    },
    "language_info": {
      "name": "python"
    }
  },
  "cells": [
    {
      "cell_type": "markdown",
      "metadata": {
        "id": "view-in-github",
        "colab_type": "text"
      },
      "source": [
        "<a href=\"https://colab.research.google.com/github/YatalaSneha24/PythonAssessmentPractice/blob/main/lab17.ipynb\" target=\"_parent\"><img src=\"https://colab.research.google.com/assets/colab-badge.svg\" alt=\"Open In Colab\"/></a>"
      ]
    },
    {
      "cell_type": "code",
      "execution_count": 1,
      "metadata": {
        "colab": {
          "base_uri": "https://localhost:8080/"
        },
        "id": "LQba_q7pqJaU",
        "outputId": "a7f8cb56-7a42-4eed-c1ed-bd1857e6f801"
      },
      "outputs": [
        {
          "output_type": "stream",
          "name": "stdout",
          "text": [
            "15 == 25 : False\n",
            "15 != 25 : True\n",
            "15 > 25 : False\n",
            "15 < 25 : True\n",
            "15 >= 25 : False\n",
            "15 <= 25 : True\n",
            "Hola == Sneha : False\n",
            "Hola != Sneha : True\n",
            "Hola > Sneha : False\n",
            "Hola < Sneha : True\n",
            "Hola >= Sneha : False\n",
            "Hola <= Sneha : True\n"
          ]
        }
      ],
      "source": [
        "#Assigning values to the variables\n",
        "y = 15\n",
        "s = 25\n",
        "\n",
        "#Equal to operator\n",
        "print(f\"{y} == {s} : {y==s}\")\n",
        "\n",
        "#Not equal to operator\n",
        "print(f\"{y} != {s} : {y!=s}\")\n",
        "\n",
        "#Greater than operator\n",
        "print(f\"{y} > {s} : {y>s}\")\n",
        "\n",
        "#Less than operator\n",
        "print(f\"{y} < {s} : {y<s}\")\n",
        "\n",
        "#Greater than or equal to operator\n",
        "print(f\"{y} >= {s} : {y>=s}\")\n",
        "\n",
        "#Less than or equal to operator\n",
        "print(f\"{y} <= {s} : {y<=s}\")\n",
        "\n",
        "#Comparision operators using for string values\n",
        "stra = \"Hola\"\n",
        "strb = \"Sneha\"\n",
        "\n",
        "#String Comparisons\n",
        "print(f\"{stra} == {strb} : {stra == strb}\")\n",
        "print(f\"{stra} != {strb} : {stra != strb}\")\n",
        "print(f\"{stra} > {strb} : {stra > strb}\")\n",
        "print(f\"{stra} < {strb} : {stra < strb}\")\n",
        "print(f\"{stra} >= {strb} : {stra >= strb}\")\n",
        "print(f\"{stra} <= {strb} : {stra <= strb}\")"
      ]
    }
  ]
}