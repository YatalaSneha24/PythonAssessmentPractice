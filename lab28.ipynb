{
  "nbformat": 4,
  "nbformat_minor": 0,
  "metadata": {
    "colab": {
      "provenance": [],
      "authorship_tag": "ABX9TyOB16qQJI52QFaArnPs8zOI",
      "include_colab_link": true
    },
    "kernelspec": {
      "name": "python3",
      "display_name": "Python 3"
    },
    "language_info": {
      "name": "python"
    }
  },
  "cells": [
    {
      "cell_type": "markdown",
      "metadata": {
        "id": "view-in-github",
        "colab_type": "text"
      },
      "source": [
        "<a href=\"https://colab.research.google.com/github/YatalaSneha24/PythonAssessmentPractice/blob/main/lab28.ipynb\" target=\"_parent\"><img src=\"https://colab.research.google.com/assets/colab-badge.svg\" alt=\"Open In Colab\"/></a>"
      ]
    },
    {
      "cell_type": "code",
      "execution_count": 1,
      "metadata": {
        "colab": {
          "base_uri": "https://localhost:8080/"
        },
        "id": "K1EgoqgGIJ9p",
        "outputId": "34685ff8-a3ea-43dd-d916-169d8100622b"
      },
      "outputs": [
        {
          "output_type": "stream",
          "name": "stdout",
          "text": [
            "1\n",
            "2\n",
            "3\n",
            "4\n",
            "5\n"
          ]
        }
      ],
      "source": [
        "#Implementation of iterative statements - while loop\n",
        "\n",
        "#Task 1:  Loop while counter is less than or equal to 5\n",
        "counter = 1\n",
        "while counter <= 5:\n",
        "  print(counter)\n",
        "  counter += 1"
      ]
    },
    {
      "cell_type": "code",
      "source": [
        "#Task 2: Correct number to guess\n",
        "#Correct number to guess\n",
        "correct_num = 7\n",
        "#Initialize the user's guess\n",
        "guess = 0\n",
        "\n",
        "#Keep asking user to guess until they get it right\n",
        "while guess != correct_num:\n",
        "  guess = int(input(\"Guess the number between 1 to 10:\"))\n",
        "\n",
        "print(\"Congratulations! You guessed the correct number.\")"
      ],
      "metadata": {
        "colab": {
          "base_uri": "https://localhost:8080/"
        },
        "id": "ceFQhSkmIoxN",
        "outputId": "849f3997-4435-4182-b8b7-7fb574879273"
      },
      "execution_count": 3,
      "outputs": [
        {
          "output_type": "stream",
          "name": "stdout",
          "text": [
            "Guess the number between 1 to 10:3\n",
            "Guess the number between 1 to 10:5\n",
            "Guess the number between 1 to 10:6\n",
            "Guess the number between 1 to 10:8\n",
            "Guess the number between 1 to 10:10\n",
            "Guess the number between 1 to 10:7\n",
            "Congratulations! You guessed the correct number.\n"
          ]
        }
      ]
    },
    {
      "cell_type": "code",
      "source": [
        "#Task 3: Decrement the number until it reaches 5, then break the loop\n",
        "number = 11\n",
        "\n",
        "while number > 0:\n",
        "  print(number)\n",
        "  number -= 1\n",
        "  if number == 2:\n",
        "     break\n",
        "\n",
        "print(\"Loop is terminated early because the number reached 2.\")"
      ],
      "metadata": {
        "colab": {
          "base_uri": "https://localhost:8080/"
        },
        "id": "UROUGHF_L1u6",
        "outputId": "59f20fda-c255-4787-f0d5-f40960290e69"
      },
      "execution_count": 7,
      "outputs": [
        {
          "output_type": "stream",
          "name": "stdout",
          "text": [
            "11\n",
            "10\n",
            "9\n",
            "8\n",
            "7\n",
            "6\n",
            "5\n",
            "4\n",
            "3\n",
            "Loop is terminated early because the number reached 2.\n"
          ]
        }
      ]
    },
    {
      "cell_type": "code",
      "source": [
        "#Task 4: Skip the rest of the loop for even numbers\n",
        "num = 0\n",
        "while num < 15:\n",
        "  num += 1\n",
        "  if num % 2 == 0:\n",
        "    continue\n",
        "  print(num)\n"
      ],
      "metadata": {
        "colab": {
          "base_uri": "https://localhost:8080/"
        },
        "id": "-DSPzXA9NJkz",
        "outputId": "e1859d17-e40f-4c93-f332-1fa2a2b2eb6b"
      },
      "execution_count": 9,
      "outputs": [
        {
          "output_type": "stream",
          "name": "stdout",
          "text": [
            "1\n",
            "3\n",
            "5\n",
            "7\n",
            "9\n",
            "11\n",
            "13\n",
            "15\n"
          ]
        }
      ]
    },
    {
      "cell_type": "code",
      "source": [
        "#Task 5: Infinite while Loop (with break)\n",
        "\n",
        "while True:\n",
        "  name = input(\"Enter your name(type 'exit' to stop):\")\n",
        "  if name.lower() == 'exit':\n",
        "    break\n",
        "  print(f'Hello, {name}')\n",
        "\n",
        "print(\"Loop exited.\")"
      ],
      "metadata": {
        "colab": {
          "base_uri": "https://localhost:8080/"
        },
        "id": "LeL_KM_mOVSu",
        "outputId": "87a2e2fc-b15d-415e-d1f4-bb0c245e771d"
      },
      "execution_count": 10,
      "outputs": [
        {
          "output_type": "stream",
          "name": "stdout",
          "text": [
            "Enter your name(type 'exit' to stop):sneha\n",
            "Hello, sneha\n",
            "Enter your name(type 'exit' to stop):pranavi\n",
            "Hello, pranavi\n",
            "Enter your name(type 'exit' to stop):chandu\n",
            "Hello, chandu\n",
            "Enter your name(type 'exit' to stop):EXIT\n",
            "Loop exited.\n"
          ]
        }
      ]
    }
  ]
}